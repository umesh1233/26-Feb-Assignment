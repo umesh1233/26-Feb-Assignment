{
 "cells": [
  {
   "cell_type": "code",
   "execution_count": 1,
   "id": "afca410b-9231-4e70-babf-736c0c00c267",
   "metadata": {},
   "outputs": [],
   "source": [
    "import numpy as np\n",
    "list_ = [ '1' , '2' , '3' , '4' , '5' ]\n",
    "array_list = np.array(object = list_)"
   ]
  },
  {
   "cell_type": "code",
   "execution_count": 4,
   "id": "30c27663-b1cc-4127-ae71-166c3a3f48bd",
   "metadata": {},
   "outputs": [
    {
     "data": {
      "text/plain": [
       "['1', '2', '3', '4', '5']"
      ]
     },
     "execution_count": 4,
     "metadata": {},
     "output_type": "execute_result"
    }
   ],
   "source": [
    "#Q.1\n",
    "list_"
   ]
  },
  {
   "cell_type": "code",
   "execution_count": 7,
   "id": "0c0e8982-184e-45af-ad7b-27f21b9e8a64",
   "metadata": {},
   "outputs": [
    {
     "data": {
      "text/plain": [
       "dtype('<U1')"
      ]
     },
     "execution_count": 7,
     "metadata": {},
     "output_type": "execute_result"
    }
   ],
   "source": [
    "array_list.dtype"
   ]
  },
  {
   "cell_type": "code",
   "execution_count": null,
   "id": "719cf60f-4766-415d-8ebb-22e1cdab9111",
   "metadata": {},
   "outputs": [],
   "source": [
    "#Q.2\n"
   ]
  },
  {
   "cell_type": "code",
   "execution_count": 14,
   "id": "cc0c3262-d168-453a-933b-ee17ae1633fb",
   "metadata": {},
   "outputs": [
    {
     "data": {
      "text/plain": [
       "['1', '2', '3', '4', '5']"
      ]
     },
     "execution_count": 14,
     "metadata": {},
     "output_type": "execute_result"
    }
   ],
   "source": [
    "list_"
   ]
  },
  {
   "cell_type": "code",
   "execution_count": 37,
   "id": "d135fdab-1d33-4f66-bfd7-c658074b3eef",
   "metadata": {},
   "outputs": [],
   "source": [
    "arr =np.array(list_)"
   ]
  },
  {
   "cell_type": "code",
   "execution_count": 39,
   "id": "1c4b9d86-0f18-41f1-812c-af1d91b83c60",
   "metadata": {},
   "outputs": [
    {
     "data": {
      "text/plain": [
       "dtype('<U1')"
      ]
     },
     "execution_count": 39,
     "metadata": {},
     "output_type": "execute_result"
    }
   ],
   "source": [
    "arr.dtype"
   ]
  },
  {
   "cell_type": "code",
   "execution_count": 44,
   "id": "71e524b7-785e-4b45-9f58-ca334fb59359",
   "metadata": {},
   "outputs": [],
   "source": [
    "arr1 =np.array(array_list)"
   ]
  },
  {
   "cell_type": "code",
   "execution_count": 45,
   "id": "ab721b3b-5a84-42d1-bd9a-19afead32f44",
   "metadata": {},
   "outputs": [
    {
     "data": {
      "text/plain": [
       "dtype('<U1')"
      ]
     },
     "execution_count": 45,
     "metadata": {},
     "output_type": "execute_result"
    }
   ],
   "source": [
    "arr1.dtype"
   ]
  },
  {
   "cell_type": "code",
   "execution_count": null,
   "id": "427a77c2-c62e-401e-9b86-97940ed86f1f",
   "metadata": {},
   "outputs": [],
   "source": [
    "#Q.3\n"
   ]
  },
  {
   "cell_type": "code",
   "execution_count": 46,
   "id": "29b5b712-2916-49a4-8500-4d5a733288b6",
   "metadata": {},
   "outputs": [],
   "source": [
    "array_list = np.array(object = list_, dtype = int)"
   ]
  },
  {
   "cell_type": "code",
   "execution_count": 47,
   "id": "51fe1fb4-345b-4284-aa21-d41c5f91a81a",
   "metadata": {},
   "outputs": [
    {
     "data": {
      "text/plain": [
       "array([1, 2, 3, 4, 5])"
      ]
     },
     "execution_count": 47,
     "metadata": {},
     "output_type": "execute_result"
    }
   ],
   "source": [
    "array_list"
   ]
  },
  {
   "cell_type": "code",
   "execution_count": 48,
   "id": "9669a9b1-124f-47bf-95c7-9c9157f92ee9",
   "metadata": {},
   "outputs": [
    {
     "data": {
      "text/plain": [
       "dtype('int64')"
      ]
     },
     "execution_count": 48,
     "metadata": {},
     "output_type": "execute_result"
    }
   ],
   "source": [
    "array_list.dtype"
   ]
  },
  {
   "cell_type": "code",
   "execution_count": 49,
   "id": "5dd93f86-9526-454a-ab3a-114fdf67f133",
   "metadata": {},
   "outputs": [],
   "source": [
    "#Q.4"
   ]
  },
  {
   "cell_type": "code",
   "execution_count": 50,
   "id": "a94e9078-84d8-49a8-bcfc-35db49bd99d0",
   "metadata": {},
   "outputs": [],
   "source": [
    "import numpy as np\n",
    "num_list = [ [ 1 , 2 , 3 ] , [ 4 , 5 , 6 ] ]\n",
    "num_array = np.array(object = num_list)"
   ]
  },
  {
   "cell_type": "code",
   "execution_count": 51,
   "id": "cf8e7d6d-bb33-4b5e-9247-1832f6d979d9",
   "metadata": {},
   "outputs": [
    {
     "data": {
      "text/plain": [
       "[[1, 2, 3], [4, 5, 6]]"
      ]
     },
     "execution_count": 51,
     "metadata": {},
     "output_type": "execute_result"
    }
   ],
   "source": [
    "num_list"
   ]
  },
  {
   "cell_type": "code",
   "execution_count": 52,
   "id": "bde91ad3-8867-403f-a126-f76e90fcf7ec",
   "metadata": {},
   "outputs": [
    {
     "data": {
      "text/plain": [
       "array([[1, 2, 3],\n",
       "       [4, 5, 6]])"
      ]
     },
     "execution_count": 52,
     "metadata": {},
     "output_type": "execute_result"
    }
   ],
   "source": [
    "num_array"
   ]
  },
  {
   "cell_type": "code",
   "execution_count": 54,
   "id": "dbd314dd-36d8-4fa9-a079-21cc5594ccd6",
   "metadata": {},
   "outputs": [
    {
     "data": {
      "text/plain": [
       "(2, 3)"
      ]
     },
     "execution_count": 54,
     "metadata": {},
     "output_type": "execute_result"
    }
   ],
   "source": [
    "# i\n",
    "num_array.shape"
   ]
  },
  {
   "cell_type": "code",
   "execution_count": 55,
   "id": "5a64ec14-0e78-4ac5-9807-65be4bb3f545",
   "metadata": {},
   "outputs": [
    {
     "data": {
      "text/plain": [
       "6"
      ]
     },
     "execution_count": 55,
     "metadata": {},
     "output_type": "execute_result"
    }
   ],
   "source": [
    "# ii\n",
    "num_array.size"
   ]
  },
  {
   "cell_type": "code",
   "execution_count": 69,
   "id": "a881e47d-1550-428c-a94c-fd000f7835bd",
   "metadata": {},
   "outputs": [
    {
     "data": {
      "text/plain": [
       "array([[0., 0., 0.],\n",
       "       [0., 0., 0.],\n",
       "       [0., 0., 0.]])"
      ]
     },
     "execution_count": 69,
     "metadata": {},
     "output_type": "execute_result"
    }
   ],
   "source": [
    "#Q.5\n",
    "np.zeros((3,3))"
   ]
  },
  {
   "cell_type": "code",
   "execution_count": 1,
   "id": "55aa4dc3-7094-4ee6-b313-441e9502916b",
   "metadata": {},
   "outputs": [],
   "source": [
    "#Q.6\n",
    "import numpy as np"
   ]
  },
  {
   "cell_type": "code",
   "execution_count": 21,
   "id": "f3ed898a-eac4-4620-a177-ac52f2438ed2",
   "metadata": {},
   "outputs": [
    {
     "name": "stderr",
     "output_type": "stream",
     "text": [
      "/tmp/ipykernel_196/1254073723.py:1: VisibleDeprecationWarning: Creating an ndarray from ragged nested sequences (which is a list-or-tuple of lists-or-tuples-or ndarrays with different lengths or shapes) is deprecated. If you meant to do this, you must specify 'dtype=object' when creating the ndarray.\n",
      "  arr1 = np.array([1,1,1,1,1,(5,5)])\n"
     ]
    }
   ],
   "source": [
    "arr1 = np.array([1,1,1,1,1,(5,5)])"
   ]
  },
  {
   "cell_type": "code",
   "execution_count": 22,
   "id": "a3812d68-1c89-46a3-9509-5d165176c9b8",
   "metadata": {},
   "outputs": [
    {
     "data": {
      "text/plain": [
       "array([1, 1, 1, 1, 1, (5, 5)], dtype=object)"
      ]
     },
     "execution_count": 22,
     "metadata": {},
     "output_type": "execute_result"
    }
   ],
   "source": [
    "arr1"
   ]
  },
  {
   "cell_type": "code",
   "execution_count": null,
   "id": "c153c608-e607-474e-abe7-e4f3b2a0a964",
   "metadata": {},
   "outputs": [],
   "source": []
  }
 ],
 "metadata": {
  "kernelspec": {
   "display_name": "Python 3 (ipykernel)",
   "language": "python",
   "name": "python3"
  },
  "language_info": {
   "codemirror_mode": {
    "name": "ipython",
    "version": 3
   },
   "file_extension": ".py",
   "mimetype": "text/x-python",
   "name": "python",
   "nbconvert_exporter": "python",
   "pygments_lexer": "ipython3",
   "version": "3.10.8"
  }
 },
 "nbformat": 4,
 "nbformat_minor": 5
}
